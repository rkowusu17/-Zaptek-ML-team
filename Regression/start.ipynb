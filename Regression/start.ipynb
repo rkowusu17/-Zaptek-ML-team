{
 "cells": [
  {
   "cell_type": "code",
   "execution_count": 3,
   "id": "fb89c4a9",
   "metadata": {},
   "outputs": [],
   "source": [
    "import numpy as np \n",
    "import matplotlib as mb \n",
    "import pandas as pd"
   ]
  },
  {
   "cell_type": "code",
   "execution_count": 12,
   "id": "2cca8c1b",
   "metadata": {},
   "outputs": [
    {
     "name": "stdout",
     "output_type": "stream",
     "text": [
      "[1 2 4 5]\n",
      "[0. 0. 0. 0. 0.]\n",
      "[1. 1. 1. 1. 1.]\n",
      "1\n",
      "2\n",
      "4\n",
      "5\n",
      "(4,)\n"
     ]
    }
   ],
   "source": [
    "arr1 = np.array([1,2,4,5]) \n",
    "print(arr1)  \n",
    "\n",
    "n = np.zeros(5) \n",
    "print(n) \n",
    "\n",
    "k = np.ones(5) \n",
    "print(k)\n",
    "\n",
    "for i in arr1: \n",
    "    print(i)  \n",
    "\n",
    "print(arr1.shape)"
   ]
  },
  {
   "cell_type": "code",
   "execution_count": null,
   "id": "ecfb459d",
   "metadata": {},
   "outputs": [
    {
     "name": "stdout",
     "output_type": "stream",
     "text": [
      "Max value in the array: 10\n",
      "Sorting array: [ 2  3  4  5 10]\n"
     ]
    }
   ],
   "source": [
    "arr1 = np.array([2,5,10, 3,4 ])  \n",
    "\n",
    "\n",
    "print(\"Max value in the array:\", np.max(arr1))\n",
    "print(\"Sorting array:\" , np.sort(arr1))"
   ]
  },
  {
   "cell_type": "code",
   "execution_count": null,
   "id": "927fa248",
   "metadata": {},
   "outputs": [],
   "source": []
  }
 ],
 "metadata": {
  "kernelspec": {
   "display_name": "Python 3",
   "language": "python",
   "name": "python3"
  },
  "language_info": {
   "codemirror_mode": {
    "name": "ipython",
    "version": 3
   },
   "file_extension": ".py",
   "mimetype": "text/x-python",
   "name": "python",
   "nbconvert_exporter": "python",
   "pygments_lexer": "ipython3",
   "version": "3.13.5"
  }
 },
 "nbformat": 4,
 "nbformat_minor": 5
}
